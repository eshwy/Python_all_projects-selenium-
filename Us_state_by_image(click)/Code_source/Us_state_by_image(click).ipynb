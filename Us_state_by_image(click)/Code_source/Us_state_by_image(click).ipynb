{
 "cells": [
  {
   "cell_type": "code",
   "execution_count": 1,
   "id": "4b191e94",
   "metadata": {},
   "outputs": [],
   "source": [
    "import time\n",
    "import selenium\n",
    "from selenium import webdriver\n",
    "from selenium.webdriver.support.ui import Select\n",
    "import pandas as pd\n",
    "import os\n",
    "import warnings\n",
    "warnings.filterwarnings(\"ignore\")"
   ]
  },
  {
   "cell_type": "code",
   "execution_count": 2,
   "id": "59a1fd6f",
   "metadata": {},
   "outputs": [],
   "source": [
    "driverpath=r\"C:\\Users\\merit\\Desktop\\chromedriver_win32\\chromedriver.exe\""
   ]
  },
  {
   "cell_type": "code",
   "execution_count": 3,
   "id": "69663745",
   "metadata": {},
   "outputs": [
    {
     "data": {
      "text/plain": [
       "'C:\\\\Users\\\\merit'"
      ]
     },
     "execution_count": 3,
     "metadata": {},
     "output_type": "execute_result"
    }
   ],
   "source": [
    "os.getcwd()"
   ]
  },
  {
   "cell_type": "code",
   "execution_count": 4,
   "id": "07dde75a",
   "metadata": {},
   "outputs": [],
   "source": [
    "os.chdir(r\"C:\\Users\\merit\\Desktop\\Py_selenium_Assingment\\Us_state_by_image(click)\")"
   ]
  },
  {
   "cell_type": "code",
   "execution_count": 5,
   "id": "6f550455",
   "metadata": {},
   "outputs": [],
   "source": [
    "driver=webdriver.Chrome(executable_path=driverpath)\n",
    "driver.maximize_window()\n",
    "driver.get(\"https://ai.fmcsa.dot.gov/hhg/Search.asp?ads=a\")\n",
    "\n",
    "#creating an excel in the start to store the data in sheets with ease\n",
    "writer = pd.ExcelWriter(\"US_by_img.xlsx\", engine='xlsxwriter')\n",
    "emp=[]\n",
    " #looping over the all the states from the images\n",
    "for i in range(1,61):\n",
    "    \n",
    "    try:\n",
    "        #creating empty list to store the column wise data and store and extract it through zip\n",
    "        td_1=[]\n",
    "        td_2=[]\n",
    "        td_3=[]\n",
    "        td_4=[]\n",
    "        driver.find_element_by_xpath(\"//div//following::area[\"+str(i)+\"]\").click()\n",
    "        #getting the name of the state and storing it to ariable to name the sheet later\n",
    "    \n",
    "        a=driver.find_elements_by_xpath(\"//body[1]/table[1]/tbody[1]/tr[3]/td[1]/table[1]/tbody[1]/tr[2]/td[3]/table[1]/tbody[1]/tr[8]/td[1]/table[1]/tbody[1]/tr[2]/td[1]//following::a\")\n",
    "        for j in range(2,len(a)-12):\n",
    "            #looping over the table to all the tr and td excpt the writing in below\n",
    "        \n",
    "            cell1=driver.find_elements_by_xpath(\"//body[1]/table[1]/tbody[1]/tr[3]/td[1]/table[1]/tbody[1]/tr[2]/td[3]/table[1]/tbody[1]/tr[8]/td[1]/table[1]/tbody[1]/tr[{}]/td[1]\".format(j))\n",
    "            cell2=driver.find_elements_by_xpath(\"//body[1]/table[1]/tbody[1]/tr[3]/td[1]/table[1]/tbody[1]/tr[2]/td[3]/table[1]/tbody[1]/tr[8]/td[1]/table[1]/tbody[1]/tr[{}]/td[2]\".format(j))\n",
    "            cell3=driver.find_elements_by_xpath(\"//body[1]/table[1]/tbody[1]/tr[3]/td[1]/table[1]/tbody[1]/tr[2]/td[3]/table[1]/tbody[1]/tr[8]/td[1]/table[1]/tbody[1]/tr[{}]/td[3]\".format(j))\n",
    "            cell4=driver.find_elements_by_xpath(\"//tbody/tr[{}]/td[4]\".format(j))\n",
    "            for n in cell1:\n",
    "                td_1.append(n.text)\n",
    "            for m in cell2:\n",
    "                td_2.append(m.text)\n",
    "            for x in cell3:\n",
    "                td_3.append(x.text)\n",
    "            for v in cell4:\n",
    "                td_4.append(v.text)\n",
    "            df=pd.DataFrame(list(zip(td_1,td_2,td_3,td_4)), columns =[\"Company Name\",\"Headquarters Location\",\"Company Type\",\"Fleet Size\"])\n",
    "            df.to_excel(writer,sheet_name=\"State\"+str(i),index = False)\n",
    "        driver.back()\n",
    "            \n",
    "    except:\n",
    "        pass\n",
    "writer.save()\n",
    "writer.close()"
   ]
  },
  {
   "cell_type": "code",
   "execution_count": null,
   "id": "40260702",
   "metadata": {},
   "outputs": [],
   "source": []
  }
 ],
 "metadata": {
  "kernelspec": {
   "display_name": "Python 3",
   "language": "python",
   "name": "python3"
  },
  "language_info": {
   "codemirror_mode": {
    "name": "ipython",
    "version": 3
   },
   "file_extension": ".py",
   "mimetype": "text/x-python",
   "name": "python",
   "nbconvert_exporter": "python",
   "pygments_lexer": "ipython3",
   "version": "3.8.8"
  }
 },
 "nbformat": 4,
 "nbformat_minor": 5
}
