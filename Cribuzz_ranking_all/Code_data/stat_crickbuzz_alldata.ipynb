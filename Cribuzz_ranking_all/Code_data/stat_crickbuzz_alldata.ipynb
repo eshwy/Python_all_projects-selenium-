{
 "cells": [
  {
   "cell_type": "code",
   "execution_count": 1,
   "id": "ad2263a4",
   "metadata": {},
   "outputs": [],
   "source": [
    "import time\n",
    "import selenium\n",
    "from selenium import webdriver\n",
    "from selenium.webdriver.support.ui import Select\n",
    "import pandas as pd\n",
    "import os\n",
    "import warnings\n",
    "warnings.filterwarnings(\"ignore\")"
   ]
  },
  {
   "cell_type": "code",
   "execution_count": 2,
   "id": "28dd8155",
   "metadata": {},
   "outputs": [],
   "source": [
    "driverpath=r\"C:\\Users\\merit\\Desktop\\chromedriver_win32\\chromedriver.exe\""
   ]
  },
  {
   "cell_type": "code",
   "execution_count": 3,
   "id": "ae0403c1",
   "metadata": {},
   "outputs": [
    {
     "data": {
      "text/plain": [
       "'C:\\\\Users\\\\merit'"
      ]
     },
     "execution_count": 3,
     "metadata": {},
     "output_type": "execute_result"
    }
   ],
   "source": [
    "os.getcwd()"
   ]
  },
  {
   "cell_type": "code",
   "execution_count": 4,
   "id": "234725bf",
   "metadata": {},
   "outputs": [],
   "source": [
    "os.chdir(r\"C:\\Users\\merit\\Desktop\\Cribuzz_ranking_all\")"
   ]
  },
  {
   "cell_type": "code",
   "execution_count": 5,
   "id": "047dd8df",
   "metadata": {},
   "outputs": [],
   "source": [
    "#I am using this list method to iterate over the all category with ease \n",
    "#and to store the excel sheet with the correct name\n",
    "category=['batsmen','bowlers','teams']\n",
    "sub_category=['tests','odis','t20s']\n",
    "exe=\"allrounders\"\n",
    "th='all-rounders'"
   ]
  },
  {
   "cell_type": "code",
   "execution_count": 6,
   "id": "187543eb",
   "metadata": {},
   "outputs": [],
   "source": [
    "driver=webdriver.Chrome(executable_path=driverpath)\n",
    "driver.maximize_window()\n",
    "driver.get(\"https://www.cricbuzz.com/cricket-stats/icc-rankings/men/batting\")\n",
    "try:\n",
    "    for i in category:\n",
    "        if str(i)!=\"teams\":\n",
    "            driver.find_element_by_xpath(\"//a[@id='\"+i+\"-tab']\").click()\n",
    "            writer = pd.ExcelWriter(i+\".xlsx\", engine='xlsxwriter')\n",
    "            for j in sub_category:\n",
    "                driver.find_element_by_xpath(\"//a[@id='\"+i+\"-\"+j+\"-tab']\").click()\n",
    "                emp_list=[]\n",
    "                a=driver.find_elements_by_xpath(\"//a[@id='\"+i+\"-\"+j+\"-tab']//following::div[contains(@class,'cb-col cb-col-100 cb-font-14 cb-lst-itm text-center')]\")\n",
    "                for k in a:\n",
    "                    emp_list.append(k.text.split(\"\\n\"))\n",
    "                df = pd.DataFrame(emp_list, columns = [\"Position\",\"NAN\",\"Player\",\"Country\",\"Rating\"])\n",
    "                df.drop(columns='NAN',axis=\"columns\",inplace=True)\n",
    "                df.dropna(axis=\"rows\", inplace=True)\n",
    "                df.to_excel(writer, sheet_name=i+\"_\"+j, index=False)\n",
    "            writer.save()\n",
    "        else:\n",
    "            driver.find_element_by_xpath(\"//a[@id='\"+i+\"-tab']\").click()\n",
    "            writer = pd.ExcelWriter(i+\".xlsx\", engine='xlsxwriter')\n",
    "            for j in sub_category:\n",
    "                driver.find_element_by_xpath(\"//a[@id='\"+i+\"-\"+j+\"-tab']\").click()\n",
    "                emp_list=[]\n",
    "                a=driver.find_elements_by_xpath(\"//a[@id='\"+i+\"-\"+j+\"-tab']//following::div[contains(@class,'cb-col cb-col-100 cb-font-14 cb-brdr-thin-btm text-center')]\")\n",
    "                for k in a:\n",
    "                    emp_list.append(k.text.split(\"\\n\"))\n",
    "                df = pd.DataFrame(emp_list, columns = [\"Position\",\"Team\",\"Rating\",\"Points\"])\n",
    "                df.dropna(axis=\"rows\", inplace=True)\n",
    "                df.to_excel(writer, sheet_name=i+\"_\"+j, index=False)\n",
    "    writer.save()\n",
    "    writer.close()\n",
    "finally:\n",
    "    driver.find_element_by_xpath(\"//a[@id='\"+th+\"-tab']\").click()\n",
    "    writer = pd.ExcelWriter(th+\".xlsx\", engine='xlsxwriter')\n",
    "    for k in sub_category:\n",
    "        driver.find_element_by_xpath(\"//a[@id='\"+exe+\"-\"+k+\"-tab']\").click()\n",
    "        a=driver.find_elements_by_xpath(\"//a[@id='\"+exe+\"-\"+k+\"-tab']//following::div[contains(@class,'cb-col cb-col-100 cb-font-14 cb-lst-itm text-center')]\")\n",
    "        emp_list=[]\n",
    "        for i in a:\n",
    "            emp_list.append(i.text.split(\"\\n\"))\n",
    "        df = pd.DataFrame(emp_list, columns = [\"Position\",\"NAN\",\"Player\",\"Country\",\"Rating\"])\n",
    "        df.dropna(axis=\"rows\",inplace=True)\n",
    "        df.drop(columns='NAN',axis=\"columns\",inplace=True)\n",
    "        df.to_excel(writer, sheet_name=th+\"_\"+k, index=False)\n",
    "    writer.save()\n",
    "writer.close()\n",
    "    \n"
   ]
  },
  {
   "cell_type": "code",
   "execution_count": null,
   "id": "58e27c56",
   "metadata": {},
   "outputs": [],
   "source": []
  }
 ],
 "metadata": {
  "kernelspec": {
   "display_name": "Python 3",
   "language": "python",
   "name": "python3"
  },
  "language_info": {
   "codemirror_mode": {
    "name": "ipython",
    "version": 3
   },
   "file_extension": ".py",
   "mimetype": "text/x-python",
   "name": "python",
   "nbconvert_exporter": "python",
   "pygments_lexer": "ipython3",
   "version": "3.8.8"
  }
 },
 "nbformat": 4,
 "nbformat_minor": 5
}
