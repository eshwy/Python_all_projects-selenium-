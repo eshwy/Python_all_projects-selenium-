{
 "cells": [
  {
   "cell_type": "code",
   "execution_count": 1,
   "id": "6665876c",
   "metadata": {},
   "outputs": [],
   "source": [
    "import time\n",
    "import selenium\n",
    "from selenium import webdriver\n",
    "from selenium.webdriver.support.ui import Select\n",
    "import pandas as pd\n",
    "import os\n",
    "import numpy as np"
   ]
  },
  {
   "cell_type": "code",
   "execution_count": 2,
   "id": "bbc5524f",
   "metadata": {},
   "outputs": [
    {
     "name": "stdout",
     "output_type": "stream",
     "text": [
      "C:\\Users\\merit\n"
     ]
    }
   ],
   "source": [
    "print(os.getcwd())"
   ]
  },
  {
   "cell_type": "code",
   "execution_count": 3,
   "id": "781a9d5b",
   "metadata": {},
   "outputs": [],
   "source": [
    "os.chdir(r\"C:\\Users\\merit\\Desktop\\py_cricbuzz_img\")"
   ]
  },
  {
   "cell_type": "code",
   "execution_count": 4,
   "id": "df9a3bd0",
   "metadata": {},
   "outputs": [],
   "source": [
    "driverpath=r\"C:\\Users\\merit\\Desktop\\chromedriver_win32\\chromedriver.exe\""
   ]
  },
  {
   "cell_type": "code",
   "execution_count": 5,
   "id": "1f197e9f",
   "metadata": {},
   "outputs": [
    {
     "name": "stdout",
     "output_type": "stream",
     "text": [
      "37\n"
     ]
    }
   ],
   "source": [
    "'''this is the of cuntries which we got from the previous automation output'''\n",
    "\n",
    "\n",
    "countries=['India', 'Ireland', 'Pakistan', 'Australia', 'Sri Lanka', 'Bangladesh', 'England', 'West Indies', 'South Africa', 'Zimbabwe', 'New Zealand', 'Afghanistan', 'Italy', 'Botswana', 'Iran', 'Belgium', 'Denmark', 'Namibia',\n",
    "'Singapore', 'Bermuda', 'Canada', 'Uganda', 'Malaysia', 'Nepal', 'Netherlands', 'Scotland', 'United Arab Emirates', 'Hong Kong', 'Kenya', 'United States', 'Germany', 'Fiji', 'Kuwait', 'Vanuatu', 'Jersey', 'Oman', 'PapuaNew Guinea']\n",
    "print(len(countries))"
   ]
  },
  {
   "cell_type": "code",
   "execution_count": 6,
   "id": "78e88c2f",
   "metadata": {},
   "outputs": [],
   "source": [
    "'''I am trying the get the names from the list and saving here'''\n",
    "\n",
    "\n",
    "driver=webdriver.Chrome(executable_path=driverpath)\n",
    "driver.maximize_window()\n",
    "driver.get(\"https://www.cricbuzz.com/cricket-team\")\n",
    "for i in range (1,38):\n",
    "    b=countries[i-1]\n",
    "    with open(b+\".png\",\"wb\") as a:\n",
    "        img=driver.find_element_by_xpath(\"//h1[contains(text(),'Cricket Teams')]//following::img[\"+str(i)+\"]\")\n",
    "        a.write(img.screenshot_as_png)\n",
    "    driver.close\n",
    "    "
   ]
  },
  {
   "cell_type": "code",
   "execution_count": null,
   "id": "e0df303c",
   "metadata": {},
   "outputs": [],
   "source": []
  }
 ],
 "metadata": {
  "kernelspec": {
   "display_name": "Python 3",
   "language": "python",
   "name": "python3"
  },
  "language_info": {
   "codemirror_mode": {
    "name": "ipython",
    "version": 3
   },
   "file_extension": ".py",
   "mimetype": "text/x-python",
   "name": "python",
   "nbconvert_exporter": "python",
   "pygments_lexer": "ipython3",
   "version": "3.8.8"
  }
 },
 "nbformat": 4,
 "nbformat_minor": 5
}
